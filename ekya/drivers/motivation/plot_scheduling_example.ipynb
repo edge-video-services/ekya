{
 "cells": [
  {
   "cell_type": "markdown",
   "metadata": {},
   "source": [
    "## Plotting the scheduling example in the motivation section"
   ]
  },
  {
   "cell_type": "code",
   "execution_count": 36,
   "metadata": {},
   "outputs": [],
   "source": [
    "import numpy as np\n",
    "import matplotlib.pyplot as plt\n",
    "%matplotlib inline"
   ]
  },
  {
   "cell_type": "code",
   "execution_count": 167,
   "metadata": {},
   "outputs": [],
   "source": [
    "PERIOD = 200\n",
    "\n",
    "A=\"dusseldorf\"\n",
    "a_start_acc = 84.1\n",
    "a_start_acc = 74.1\n",
    "a_cfgs = {\n",
    "    \"high\": {\"train_time\": 95.7, \"acc\": 87.6},\n",
    "    \"low_orig\": {\"train_time\": 36.1, \"acc\": 86.4},\n",
    "    \"low\": {\"train_time\": 65.1, \"acc\": 86.4},\n",
    "    \"no\": {\"train_time\": 0, \"acc\": a_start_acc}\n",
    "}\n",
    "\n",
    "\n",
    "B=\"aachen\"\n",
    "b_start_acc = 68.8\n",
    "b_start_acc = 48.8\n",
    "b_cfgs = {\n",
    "    \"high\": {\"train_time\": 80.8, \"acc\": 77.8},\n",
    "    \"low_orig\": {\"train_time\": 22.9, \"acc\": 75.7},\n",
    "    \"low\": {\"train_time\": 55.9, \"acc\": 75.7},\n",
    "    \"no\": {\"train_time\": 0, \"acc\": b_start_acc}\n",
    "}\n",
    "\n",
    "INF_RES_REQ = 0.5"
   ]
  },
  {
   "cell_type": "code",
   "execution_count": 134,
   "metadata": {},
   "outputs": [],
   "source": [
    "# PERIOD = 200\n",
    "\n",
    "# A=\"dusseldorf\"\n",
    "# a_start_acc = 84.1\n",
    "# a_start_acc = 84.1\n",
    "# a_cfgs = {\n",
    "#     \"high\": {\"train_time\": 95.7, \"acc\": 87.6},\n",
    "#     \"low_orig\": {\"train_time\": 36.1, \"acc\": 86.4},\n",
    "#     \"low\": {\"train_time\": 75.1, \"acc\": 86.4},\n",
    "#     \"no\": {\"train_time\": 0, \"acc\": a_start_acc}\n",
    "# }\n",
    "\n",
    "\n",
    "# B=\"aachen\"\n",
    "# b_start_acc = 68.8\n",
    "# b_start_acc = 38.8\n",
    "# b_cfgs = {\n",
    "#     \"high\": {\"train_time\": 80.8, \"acc\": 77.8},\n",
    "#     \"low_orig\": {\"train_time\": 22.9, \"acc\": 75.7},\n",
    "#     \"low\": {\"train_time\": 60.9, \"acc\": 75.7},\n",
    "#     \"no\": {\"train_time\": 0, \"acc\": b_start_acc}\n",
    "# }\n",
    "\n",
    "# INF_RES_REQ = 0.5"
   ]
  },
  {
   "cell_type": "markdown",
   "metadata": {},
   "source": [
    "# Baseline"
   ]
  },
  {
   "cell_type": "code",
   "execution_count": 168,
   "metadata": {},
   "outputs": [],
   "source": [
    "def inference_acc_slowdown(res, base_res=INF_RES_REQ, k=1):\n",
    "    return min(1/((base_res/res)/k), 1)\n",
    "\n",
    "def run(a_cfg, b_cfg, a_res_alloc=0.5, b_res_alloc=0.5, a_train_split=0.5, b_train_split=0.5, title=\"\", labelA=\"\", labelB=\"\"):\n",
    "    total_res = 1\n",
    "    a_final_acc = a_cfg[\"acc\"]\n",
    "    b_final_acc = b_cfg[\"acc\"]\n",
    "\n",
    "    a_inference_res = min(a_train_split*(a_res_alloc), INF_RES_REQ)\n",
    "    a_train_res = a_res_alloc - a_inference_res\n",
    "    b_inference_res = min(b_train_split*(b_res_alloc), INF_RES_REQ)\n",
    "    b_train_res = b_res_alloc - b_inference_res\n",
    "\n",
    "    a_completion_time = a_cfg[\"train_time\"]/a_train_res\n",
    "    b_completion_time = b_cfg[\"train_time\"]/b_train_res\n",
    "\n",
    "    print(\"A inf res: {}. A train res {}.\".format(a_inference_res, a_train_res))\n",
    "    print(\"B inf res: {}. B train res {}.\".format(b_inference_res, b_train_res))\n",
    "    print(\"A completion time: {}. B completion time {}.\".format(a_completion_time, b_completion_time))\n",
    "\n",
    "    # Compute inference accuracy curves\n",
    "    a_inference_acc = []\n",
    "    a_acc_redn_factor = inference_acc_slowdown(a_inference_res)\n",
    "    a_acc_redn_factor_posttrain = inference_acc_slowdown(a_res_alloc) # All res for a\n",
    "    print(\"A inference speed factor: {}\".format(a_acc_redn_factor))\n",
    "    for i in range(0, min(int(a_completion_time), PERIOD)):\n",
    "        a_inference_acc.append(a_acc_redn_factor*a_start_acc)\n",
    "    if int(a_completion_time) < PERIOD:\n",
    "        for i in range(int(a_completion_time), PERIOD):\n",
    "            a_inference_acc.append(a_acc_redn_factor_posttrain*a_final_acc)\n",
    "\n",
    "\n",
    "    b_inference_acc = []\n",
    "    b_acc_redn_factor = inference_acc_slowdown(b_inference_res)\n",
    "    b_acc_redn_factor_posttrain = inference_acc_slowdown(b_res_alloc) # All res for b\n",
    "    print(\"B inference speed factor: {}\".format(b_acc_redn_factor))\n",
    "    for i in range(0, min(int(b_completion_time), PERIOD)):\n",
    "        b_inference_acc.append(b_acc_redn_factor*b_start_acc)\n",
    "    if int(b_completion_time) < PERIOD:\n",
    "        for i in range(int(b_completion_time), PERIOD):\n",
    "            b_inference_acc.append(b_acc_redn_factor_posttrain*b_final_acc)\n",
    "\n",
    "    print(\"Done. a_mean_acc: {}. b_mean_acc: {}. Overall mean acc: {}\".format(np.mean(a_inference_acc),\n",
    "                                                                              np.mean(b_inference_acc),\n",
    "                                                                             (np.mean(a_inference_acc) + \n",
    "                                                                              np.mean(b_inference_acc))/2))\n",
    "\n",
    "    plt.plot(a_inference_acc, label=labelA)\n",
    "    plt.plot(b_inference_acc, label=labelB)\n",
    "    plt.legend()\n",
    "    plt.title(title + \" Mean Acc: {}\".format((np.mean(a_inference_acc) + np.mean(b_inference_acc))/2))\n",
    "    plt.xlabel(\"Wall time\")\n",
    "    plt.ylabel(\"Accuracy\")"
   ]
  },
  {
   "cell_type": "code",
   "execution_count": 169,
   "metadata": {},
   "outputs": [
    {
     "name": "stderr",
     "output_type": "stream",
     "text": [
      "No handles with labels found to put in legend.\n"
     ]
    },
    {
     "name": "stdout",
     "output_type": "stream",
     "text": [
      "A inf res: 0.5. A train res 0.5.\n",
      "B inf res: 0.5. B train res 0.5.\n",
      "A completion time: 0.0. B completion time 0.0.\n",
      "A inference speed factor: 1.0\n",
      "B inference speed factor: 1.0\n",
      "Done. a_mean_acc: 74.10000000000002. b_mean_acc: 48.8. Overall mean acc: 61.45000000000001\n"
     ]
    },
    {
     "data": {
      "image/png": "[encoded data removed]",
      "text/plain": [
       "<Figure size 432x288 with 1 Axes>"
      ]
     },
     "metadata": {
      "needs_background": "light"
     },
     "output_type": "display_data"
    }
   ],
   "source": [
    "# No retraining\n",
    "run(a_cfgs[\"no\"], b_cfgs[\"no\"], a_res_alloc=1, b_res_alloc=1)"
   ]
  },
  {
   "cell_type": "code",
   "execution_count": 170,
   "metadata": {},
   "outputs": [
    {
     "name": "stdout",
     "output_type": "stream",
     "text": [
      "A inf res: 0.5. A train res 0.5.\n",
      "B inf res: 0.5. B train res 0.5.\n",
      "A completion time: 191.4. B completion time 161.6.\n",
      "A inference speed factor: 1.0\n",
      "B inference speed factor: 1.0\n",
      "Done. a_mean_acc: 74.70750000000002. b_mean_acc: 54.455. Overall mean acc: 64.58125000000001\n"
     ]
    },
    {
     "data": {
      "image/png": "[encoded data removed]",
      "text/plain": [
       "<Figure size 432x288 with 1 Axes>"
      ]
     },
     "metadata": {
      "needs_background": "light"
     },
     "output_type": "display_data"
    }
   ],
   "source": [
    "# Fair sharing and picking highest acc hyperparams\n",
    "run(a_cfgs[\"high\"], b_cfgs[\"high\"], a_res_alloc=1, b_res_alloc=1, title = \"Fair scheduler baseline, eventual best accuracy cfgs\", labelA = \"Dusseldorf Cfg A\", labelB = \"Aachen Cfg A\")\n",
    "plt.savefig(\"schedmot_eventual_best_cfgs.pdf\")"
   ]
  },
  {
   "cell_type": "code",
   "execution_count": 178,
   "metadata": {},
   "outputs": [
    {
     "name": "stdout",
     "output_type": "stream",
     "text": [
      "A inf res: 0.5. A train res 0.5.\n",
      "B inf res: 0.5. B train res 0.5.\n",
      "A completion time: 130.2. B completion time 111.8.\n",
      "B will relinquish 0.5\n",
      "B inference speed factors: 1.0, posttrain: 1.0\n",
      "A inference speed factor: 1.0\n",
      "Remaining wall time: 9.5, new_remaining_res_time: 9\n",
      "A actual completion time: 120\n",
      "Done. a_mean_acc: 79.02. b_mean_acc: 60.77050000000001. Overall mean acc: 69.89525\n"
     ]
    },
    {
     "data": {
      "image/png": "[encoded data removed]",
      "text/plain": [
       "<Figure size 432x288 with 1 Axes>"
      ]
     },
     "metadata": {
      "needs_background": "light"
     },
     "output_type": "display_data"
    }
   ],
   "source": [
    "# Fair sharing and picking optimal hyperparams\n",
    "run2(a_cfgs[\"low\"], b_cfgs[\"low\"], a_res_alloc=1, b_res_alloc=1, title = \"Fair scheduler baseline, faster accuracy cfgs\", labelA = \"Dusseldorf Cfg B, GPU=1\", labelB = \"Aachen Cfg B, GPU=1\")\n",
    "plt.savefig(\"schedmot_optimal_cfgs.pdf\")"
   ]
  },
  {
   "cell_type": "code",
   "execution_count": 180,
   "metadata": {},
   "outputs": [
    {
     "name": "stdout",
     "output_type": "stream",
     "text": [
      "A inf res: 0.495. A train res 0.0050000000000000044.\n",
      "B inf res: 0.5. B train res 1.0.\n",
      "A completion time: 13019.999999999987. B completion time 55.9.\n",
      "B will relinquish 1.0\n",
      "B inference speed factors: 1.0, posttrain: 1.0\n",
      "A inference speed factor: 0.99\n",
      "Remaining wall time: 64.82000000000006, new_remaining_res_time: 64\n",
      "A actual completion time: 119\n",
      "Done. a_mean_acc: 78.640605. b_mean_acc: 68.30250000000002. Overall mean acc: 73.4715525\n"
     ]
    },
    {
     "data": {
      "image/png": "[encoded data removed]",
      "text/plain": [
       "<Figure size 432x288 with 1 Axes>"
      ]
     },
     "metadata": {
      "needs_background": "light"
     },
     "output_type": "display_data"
    }
   ],
   "source": [
    "# Prioritizing B and picking optimal hyperparams\n",
    "run2(a_cfgs[\"low\"], b_cfgs[\"low\"], a_res_alloc=0.5, b_res_alloc=1.5, a_inference_split=0.99,\n",
    "     title = \"Scheduler prioritizes Aachen, \", labelA = \"Dusseldorf Cfg B, GPU=0.5\", labelB = \"Aachen Cfg B, GPU=1.5\")\n",
    "plt.savefig(\"schedmot_prioritization_and_optimal_cfgs.pdf\")"
   ]
  },
  {
   "cell_type": "code",
   "execution_count": 172,
   "metadata": {},
   "outputs": [],
   "source": [
    "def inference_acc_slowdown(res, base_res=INF_RES_REQ, k=1):\n",
    "    return min(1/((base_res/res)/k), 1)\n",
    "\n",
    "def run2(a_cfg, b_cfg, a_res_alloc=1, b_res_alloc=1, a_inference_split=0.5, b_inference_split=0.5, max_inference_res=INF_RES_REQ,\n",
    "        title=\"\", labelA=\"\", labelB=\"\"):\n",
    "    # When b finishes first and relinquishes resources\n",
    "    total_res = 1\n",
    "    a_final_acc = a_cfg[\"acc\"]\n",
    "    b_final_acc = b_cfg[\"acc\"]\n",
    "    \n",
    "    a_inference_res = min(a_inference_split*(a_res_alloc), max_inference_res)\n",
    "    a_train_res = a_res_alloc - a_inference_res\n",
    "    b_inference_res = min(b_inference_split*(b_res_alloc), max_inference_res)\n",
    "    b_train_res = b_res_alloc - b_inference_res\n",
    "\n",
    "    a_completion_time = a_cfg[\"train_time\"]/a_train_res\n",
    "    b_completion_time = b_cfg[\"train_time\"]/b_train_res\n",
    "\n",
    "    print(\"A inf res: {}. A train res {}.\".format(a_inference_res, a_train_res))\n",
    "    print(\"B inf res: {}. B train res {}.\".format(b_inference_res, b_train_res))\n",
    "    print(\"A completion time: {}. B completion time {}.\".format(a_completion_time, b_completion_time))\n",
    "\n",
    "    b_inference_acc = []\n",
    "    b_acc_redn_factor = inference_acc_slowdown(b_inference_res)\n",
    "    relinquished_res = b_res_alloc - max_inference_res\n",
    "    assert relinquished_res > 0\n",
    "    print(\"B will relinquish {}\".format(relinquished_res))\n",
    "    b_acc_redn_factor_posttrain = inference_acc_slowdown(max_inference_res) # All res for b\n",
    "    print(\"B inference speed factors: {}, posttrain: {}\".format(b_acc_redn_factor, b_acc_redn_factor_posttrain))\n",
    "    for i in range(0, int(b_completion_time)):\n",
    "        b_inference_acc.append(b_acc_redn_factor*b_start_acc)\n",
    "    for i in range(int(b_completion_time), PERIOD):\n",
    "        b_inference_acc.append(b_acc_redn_factor_posttrain*b_final_acc)\n",
    "        \n",
    "    # Compute inference accuracy curves\n",
    "    a_inference_acc = []\n",
    "    a_acc_redn_factor = inference_acc_slowdown(a_inference_res)\n",
    "    print(\"A inference speed factor: {}\".format(a_acc_redn_factor))\n",
    "    # till b is completed\n",
    "    for i in range(0, int(b_completion_time)):\n",
    "        a_inference_acc.append(a_acc_redn_factor*a_start_acc)\n",
    "    # Till a is completed\n",
    "    remaining_wall_time = (int(a_completion_time) - int(b_completion_time))*a_train_res\n",
    "    new_remaining_res_time = int(remaining_wall_time/(a_train_res + relinquished_res))\n",
    "    print(\"Remaining wall time: {}, new_remaining_res_time: {}\".format(remaining_wall_time, new_remaining_res_time))\n",
    "    new_completion_time = int(b_completion_time)+new_remaining_res_time\n",
    "    #a_acc_redn_factor = inference_acc_slowdown(a_inference_res + relinquished_res)\n",
    "    a_acc_redn_factor_posttrain = inference_acc_slowdown(a_res_alloc + relinquished_res)\n",
    "    print(\"A actual completion time: {}\".format(new_completion_time))\n",
    "    for i in range(int(b_completion_time), new_completion_time):\n",
    "        a_inference_acc.append(a_acc_redn_factor*a_start_acc)    \n",
    "    for i in range(int(b_completion_time)+new_remaining_res_time, PERIOD):\n",
    "        a_inference_acc.append(a_acc_redn_factor_posttrain*a_final_acc)\n",
    "\n",
    "    print(\"Done. a_mean_acc: {}. b_mean_acc: {}. Overall mean acc: {}\".format(np.mean(a_inference_acc),\n",
    "                                                                              np.mean(b_inference_acc),\n",
    "                                                                             (np.mean(a_inference_acc) + \n",
    "                                                                              np.mean(b_inference_acc))/2))\n",
    "\n",
    "    plt.plot(a_inference_acc, label=labelA)\n",
    "    plt.plot(b_inference_acc, label=labelB)\n",
    "    plt.legend()\n",
    "    plt.title(title + \" Mean Acc: {}\".format((np.mean(a_inference_acc) + np.mean(b_inference_acc))/2))\n",
    "    plt.xlabel(\"Wall time\")\n",
    "    plt.ylabel(\"Accuracy\")"
   ]
  },
  {
   "cell_type": "code",
   "execution_count": null,
   "metadata": {},
   "outputs": [],
   "source": []
  }
 ],
 "metadata": {
  "kernelspec": {
   "display_name": "Python 3",
   "language": "python",
   "name": "python3"
  },
  "language_info": {
   "codemirror_mode": {
    "name": "ipython",
    "version": 3
   },
   "file_extension": ".py",
   "mimetype": "text/x-python",
   "name": "python",
   "nbconvert_exporter": "python",
   "pygments_lexer": "ipython3",
   "version": "3.7.3"
  }
 },
 "nbformat": 4,
 "nbformat_minor": 2
}
