{
 "cells": [
  {
   "cell_type": "markdown",
   "metadata": {},
   "source": [
    "# Benchmark viz"
   ]
  },
  {
   "cell_type": "code",
   "execution_count": 67,
   "metadata": {},
   "outputs": [],
   "source": [
    "import pandas as pd\n",
    "import numpy as np\n",
    "import os\n",
    "import json\n",
    "import matplotlib.pyplot as plt"
   ]
  },
  {
   "cell_type": "code",
   "execution_count": 68,
   "metadata": {},
   "outputs": [],
   "source": [
    "RESULT_ROOT = '/home/romilb/research/msr/results/system_impl/benchmarking/zurich_scaling_bs8'"
   ]
  },
  {
   "cell_type": "code",
   "execution_count": 69,
   "metadata": {},
   "outputs": [],
   "source": [
    "data = pd.read_csv(os.path.join(RESULT_ROOT, 'log.csv'), names=['alloc', 'task_id', 'time'])\n",
    "# Remove task 0\n",
    "data = data[data[\"task_id\"] != 0]"
   ]
  },
  {
   "cell_type": "code",
   "execution_count": 70,
   "metadata": {},
   "outputs": [
    {
     "data": {
      "image/png": "[encoded data removed]",
      "text/plain": [
       "<Figure size 432x288 with 1 Axes>"
      ]
     },
     "metadata": {
      "needs_background": "light"
     },
     "output_type": "display_data"
    }
   ],
   "source": [
    "plt.figure()\n",
    "ax = plt.gca()\n",
    "scaled_xput = data.groupby('alloc').mean()\n",
    "scaled_xput = scaled_xput/scaled_xput.min()\n",
    "scaled_xput = 1/scaled_xput\n",
    "\n",
    "scaled_errs = data.groupby('alloc').std()\n",
    "scaled_errs = scaled_errs/data.groupby('alloc').mean().min()\n",
    "scaled_errs = 1/scaled_errs\n",
    "\n",
    "scaled_xput.plot(y='time', ax=ax, label='MPS', marker='o')#, yerr=scaled_errs['time'], capsize=4)\n",
    "ax.set_ylabel('Throughput')\n",
    "ax.set_xlabel('GPU% Allocation')\n",
    "ax.set_xlim([0,100])\n",
    "ax.set_ylim([0,1.1])\n",
    "linear_x = np.linspace(0, 100, 1000)\n",
    "linear_y = linear_x/100\n",
    "ax.plot(linear_x, linear_y, ls='--', label='Simulator')\n",
    "ax.legend()\n",
    "ax.grid()\n",
    "plt.title('Resource vs Throughput (MPS and Sim)')\n",
    "plt.tight_layout()\n",
    "plt.savefig('scaling.pdf')"
   ]
  },
  {
   "cell_type": "code",
   "execution_count": 71,
   "metadata": {},
   "outputs": [
    {
     "data": {
      "text/html": [
       "<div>\n",
       "<style scoped>\n",
       "    .dataframe tbody tr th:only-of-type {\n",
       "        vertical-align: middle;\n",
       "    }\n",
       "\n",
       "    .dataframe tbody tr th {\n",
       "        vertical-align: top;\n",
       "    }\n",
       "\n",
       "    .dataframe thead th {\n",
       "        text-align: right;\n",
       "    }\n",
       "</style>\n",
       "<table border=\"1\" class=\"dataframe\">\n",
       "  <thead>\n",
       "    <tr style=\"text-align: right;\">\n",
       "      <th></th>\n",
       "      <th>task_id</th>\n",
       "      <th>time</th>\n",
       "    </tr>\n",
       "    <tr>\n",
       "      <th>alloc</th>\n",
       "      <th></th>\n",
       "      <th></th>\n",
       "    </tr>\n",
       "  </thead>\n",
       "  <tbody>\n",
       "    <tr>\n",
       "      <th>10</th>\n",
       "      <td>5</td>\n",
       "      <td>15.185301</td>\n",
       "    </tr>\n",
       "    <tr>\n",
       "      <th>20</th>\n",
       "      <td>5</td>\n",
       "      <td>10.732497</td>\n",
       "    </tr>\n",
       "    <tr>\n",
       "      <th>30</th>\n",
       "      <td>5</td>\n",
       "      <td>8.423063</td>\n",
       "    </tr>\n",
       "    <tr>\n",
       "      <th>40</th>\n",
       "      <td>5</td>\n",
       "      <td>7.346349</td>\n",
       "    </tr>\n",
       "    <tr>\n",
       "      <th>50</th>\n",
       "      <td>5</td>\n",
       "      <td>6.561887</td>\n",
       "    </tr>\n",
       "    <tr>\n",
       "      <th>60</th>\n",
       "      <td>5</td>\n",
       "      <td>6.369023</td>\n",
       "    </tr>\n",
       "    <tr>\n",
       "      <th>70</th>\n",
       "      <td>5</td>\n",
       "      <td>6.321470</td>\n",
       "    </tr>\n",
       "    <tr>\n",
       "      <th>80</th>\n",
       "      <td>5</td>\n",
       "      <td>5.612063</td>\n",
       "    </tr>\n",
       "    <tr>\n",
       "      <th>90</th>\n",
       "      <td>5</td>\n",
       "      <td>5.579987</td>\n",
       "    </tr>\n",
       "    <tr>\n",
       "      <th>100</th>\n",
       "      <td>5</td>\n",
       "      <td>5.460700</td>\n",
       "    </tr>\n",
       "  </tbody>\n",
       "</table>\n",
       "</div>"
      ],
      "text/plain": [
       "       task_id       time\n",
       "alloc                    \n",
       "10           5  15.185301\n",
       "20           5  10.732497\n",
       "30           5   8.423063\n",
       "40           5   7.346349\n",
       "50           5   6.561887\n",
       "60           5   6.369023\n",
       "70           5   6.321470\n",
       "80           5   5.612063\n",
       "90           5   5.579987\n",
       "100          5   5.460700"
      ]
     },
     "execution_count": 71,
     "metadata": {},
     "output_type": "execute_result"
    }
   ],
   "source": [
    "data.groupby('alloc').mean()"
   ]
  },
  {
   "cell_type": "code",
   "execution_count": 56,
   "metadata": {},
   "outputs": [
    {
     "data": {
      "text/plain": [
       "task_id    1.00000\n",
       "time       0.35331\n",
       "dtype: float64"
      ]
     },
     "execution_count": 56,
     "metadata": {},
     "output_type": "execute_result"
    }
   ],
   "source": [
    "scaled_xput.min()"
   ]
  },
  {
   "cell_type": "markdown",
   "metadata": {},
   "source": [
    "# Comparing with profiles"
   ]
  },
  {
   "cell_type": "code",
   "execution_count": 65,
   "metadata": {},
   "outputs": [],
   "source": [
    "PROFILE_COLUMNS = [\"timestamp\", \"train_time\", \"train_loss\", \"train_acc\", \"train_num_batches\",\n",
    "                            \"val_time\", \"val_loss\", \"val_acc\", \"val_num_batches\",\n",
    "                  \"test_time\", \"test_loss\", \"test_acc\", \"test_num_batches\"]\n",
    "\n",
    "profile_path = '/home/romilb/research/msr/results/profiling/june_impl/20200617_2121_no101_no50/zurich/0_profile.json'\n",
    "with open(profile_path) as f:\n",
    "    profile_json = json.load(f)"
   ]
  },
  {
   "cell_type": "code",
   "execution_count": 66,
   "metadata": {},
   "outputs": [
    {
     "name": "stdout",
     "output_type": "stream",
     "text": [
      "5.021055698394775\n"
     ]
    }
   ],
   "source": [
    "TASK_ID = '4'\n",
    "x=pd.DataFrame(profile_json[TASK_ID], columns=PROFILE_COLUMNS)\n",
    "resource_time = sum(x.loc[0:9]['train_time'])\n",
    "print(resource_time)"
   ]
  },
  {
   "cell_type": "code",
   "execution_count": null,
   "metadata": {},
   "outputs": [],
   "source": []
  }
 ],
 "metadata": {
  "kernelspec": {
   "display_name": "Python 3",
   "language": "python",
   "name": "python3"
  },
  "language_info": {
   "codemirror_mode": {
    "name": "ipython",
    "version": 3
   },
   "file_extension": ".py",
   "mimetype": "text/x-python",
   "name": "python",
   "nbconvert_exporter": "python",
   "pygments_lexer": "ipython3",
   "version": "3.7.3"
  }
 },
 "nbformat": 4,
 "nbformat_minor": 2
}
