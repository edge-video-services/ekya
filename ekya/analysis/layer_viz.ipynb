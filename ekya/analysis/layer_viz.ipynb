{
 "cells": [
  {
   "cell_type": "code",
   "execution_count": 45,
   "metadata": {},
   "outputs": [],
   "source": [
    "import torch\n",
    "from torch import nn\n",
    "from torchviz import make_dot, make_dot_from_trace\n",
    "from inclearn.models.icarl import ICarl\n",
    "import hiddenlayer as hl\n",
    "import matplotlib.pyplot as plt\n",
    "from torchsummary import summary\n",
    "import numpy as np"
   ]
  },
  {
   "cell_type": "code",
   "execution_count": 20,
   "metadata": {
    "scrolled": false
   },
   "outputs": [
    {
     "name": "stdout",
     "output_type": "stream",
     "text": [
      "Using device: cpu\n",
      "child  0  was frozen\n",
      "child  1  was frozen\n",
      "child  2  was frozen\n",
      "child  3  was frozen\n",
      "child  4  was frozen\n",
      "child  5  was not frozen\n",
      "child  6  was not frozen\n",
      "child  7  was not frozen\n",
      "child  8  was not frozen\n",
      "----------------------------------------------------------------\n",
      "        Layer (type)               Output Shape         Param #\n",
      "================================================================\n",
      "            Conv2d-1         [-1, 64, 224, 224]           1,728\n",
      "       BatchNorm2d-2         [-1, 64, 224, 224]             128\n",
      "              ReLU-3         [-1, 64, 224, 224]               0\n",
      "         MaxPool2d-4         [-1, 64, 112, 112]               0\n",
      "            Conv2d-5         [-1, 64, 112, 112]           4,096\n",
      "       BatchNorm2d-6         [-1, 64, 112, 112]             128\n",
      "              ReLU-7         [-1, 64, 112, 112]               0\n",
      "            Conv2d-8         [-1, 64, 112, 112]          36,864\n",
      "       BatchNorm2d-9         [-1, 64, 112, 112]             128\n",
      "             ReLU-10         [-1, 64, 112, 112]               0\n",
      "           Conv2d-11        [-1, 256, 112, 112]          16,384\n",
      "      BatchNorm2d-12        [-1, 256, 112, 112]             512\n",
      "           Conv2d-13        [-1, 256, 112, 112]          16,384\n",
      "      BatchNorm2d-14        [-1, 256, 112, 112]             512\n",
      "             ReLU-15        [-1, 256, 112, 112]               0\n",
      "       Bottleneck-16        [-1, 256, 112, 112]               0\n",
      "           Conv2d-17         [-1, 64, 112, 112]          16,384\n",
      "      BatchNorm2d-18         [-1, 64, 112, 112]             128\n",
      "             ReLU-19         [-1, 64, 112, 112]               0\n",
      "           Conv2d-20         [-1, 64, 112, 112]          36,864\n",
      "      BatchNorm2d-21         [-1, 64, 112, 112]             128\n",
      "             ReLU-22         [-1, 64, 112, 112]               0\n",
      "           Conv2d-23        [-1, 256, 112, 112]          16,384\n",
      "      BatchNorm2d-24        [-1, 256, 112, 112]             512\n",
      "             ReLU-25        [-1, 256, 112, 112]               0\n",
      "       Bottleneck-26        [-1, 256, 112, 112]               0\n",
      "           Conv2d-27         [-1, 64, 112, 112]          16,384\n",
      "      BatchNorm2d-28         [-1, 64, 112, 112]             128\n",
      "             ReLU-29         [-1, 64, 112, 112]               0\n",
      "           Conv2d-30         [-1, 64, 112, 112]          36,864\n",
      "      BatchNorm2d-31         [-1, 64, 112, 112]             128\n",
      "             ReLU-32         [-1, 64, 112, 112]               0\n",
      "           Conv2d-33        [-1, 256, 112, 112]          16,384\n",
      "      BatchNorm2d-34        [-1, 256, 112, 112]             512\n",
      "             ReLU-35        [-1, 256, 112, 112]               0\n",
      "       Bottleneck-36        [-1, 256, 112, 112]               0\n",
      "           Conv2d-37        [-1, 128, 112, 112]          32,768\n",
      "      BatchNorm2d-38        [-1, 128, 112, 112]             256\n",
      "             ReLU-39        [-1, 128, 112, 112]               0\n",
      "           Conv2d-40          [-1, 128, 56, 56]         147,456\n",
      "      BatchNorm2d-41          [-1, 128, 56, 56]             256\n",
      "             ReLU-42          [-1, 128, 56, 56]               0\n",
      "           Conv2d-43          [-1, 512, 56, 56]          65,536\n",
      "      BatchNorm2d-44          [-1, 512, 56, 56]           1,024\n",
      "           Conv2d-45          [-1, 512, 56, 56]         131,072\n",
      "      BatchNorm2d-46          [-1, 512, 56, 56]           1,024\n",
      "             ReLU-47          [-1, 512, 56, 56]               0\n",
      "       Bottleneck-48          [-1, 512, 56, 56]               0\n",
      "           Conv2d-49          [-1, 128, 56, 56]          65,536\n",
      "      BatchNorm2d-50          [-1, 128, 56, 56]             256\n",
      "             ReLU-51          [-1, 128, 56, 56]               0\n",
      "           Conv2d-52          [-1, 128, 56, 56]         147,456\n",
      "      BatchNorm2d-53          [-1, 128, 56, 56]             256\n",
      "             ReLU-54          [-1, 128, 56, 56]               0\n",
      "           Conv2d-55          [-1, 512, 56, 56]          65,536\n",
      "      BatchNorm2d-56          [-1, 512, 56, 56]           1,024\n",
      "             ReLU-57          [-1, 512, 56, 56]               0\n",
      "       Bottleneck-58          [-1, 512, 56, 56]               0\n",
      "           Conv2d-59          [-1, 128, 56, 56]          65,536\n",
      "      BatchNorm2d-60          [-1, 128, 56, 56]             256\n",
      "             ReLU-61          [-1, 128, 56, 56]               0\n",
      "           Conv2d-62          [-1, 128, 56, 56]         147,456\n",
      "      BatchNorm2d-63          [-1, 128, 56, 56]             256\n",
      "             ReLU-64          [-1, 128, 56, 56]               0\n",
      "           Conv2d-65          [-1, 512, 56, 56]          65,536\n",
      "      BatchNorm2d-66          [-1, 512, 56, 56]           1,024\n",
      "             ReLU-67          [-1, 512, 56, 56]               0\n",
      "       Bottleneck-68          [-1, 512, 56, 56]               0\n",
      "           Conv2d-69          [-1, 128, 56, 56]          65,536\n",
      "      BatchNorm2d-70          [-1, 128, 56, 56]             256\n",
      "             ReLU-71          [-1, 128, 56, 56]               0\n",
      "           Conv2d-72          [-1, 128, 56, 56]         147,456\n",
      "      BatchNorm2d-73          [-1, 128, 56, 56]             256\n",
      "             ReLU-74          [-1, 128, 56, 56]               0\n",
      "           Conv2d-75          [-1, 512, 56, 56]          65,536\n",
      "      BatchNorm2d-76          [-1, 512, 56, 56]           1,024\n",
      "             ReLU-77          [-1, 512, 56, 56]               0\n",
      "       Bottleneck-78          [-1, 512, 56, 56]               0\n",
      "           Conv2d-79          [-1, 256, 56, 56]         131,072\n",
      "      BatchNorm2d-80          [-1, 256, 56, 56]             512\n",
      "             ReLU-81          [-1, 256, 56, 56]               0\n",
      "           Conv2d-82          [-1, 256, 28, 28]         589,824\n",
      "      BatchNorm2d-83          [-1, 256, 28, 28]             512\n",
      "             ReLU-84          [-1, 256, 28, 28]               0\n",
      "           Conv2d-85         [-1, 1024, 28, 28]         262,144\n",
      "      BatchNorm2d-86         [-1, 1024, 28, 28]           2,048\n",
      "           Conv2d-87         [-1, 1024, 28, 28]         524,288\n",
      "      BatchNorm2d-88         [-1, 1024, 28, 28]           2,048\n",
      "             ReLU-89         [-1, 1024, 28, 28]               0\n",
      "       Bottleneck-90         [-1, 1024, 28, 28]               0\n",
      "           Conv2d-91          [-1, 256, 28, 28]         262,144\n",
      "      BatchNorm2d-92          [-1, 256, 28, 28]             512\n",
      "             ReLU-93          [-1, 256, 28, 28]               0\n",
      "           Conv2d-94          [-1, 256, 28, 28]         589,824\n",
      "      BatchNorm2d-95          [-1, 256, 28, 28]             512\n",
      "             ReLU-96          [-1, 256, 28, 28]               0\n",
      "           Conv2d-97         [-1, 1024, 28, 28]         262,144\n",
      "      BatchNorm2d-98         [-1, 1024, 28, 28]           2,048\n",
      "             ReLU-99         [-1, 1024, 28, 28]               0\n",
      "      Bottleneck-100         [-1, 1024, 28, 28]               0\n",
      "          Conv2d-101          [-1, 256, 28, 28]         262,144\n",
      "     BatchNorm2d-102          [-1, 256, 28, 28]             512\n",
      "            ReLU-103          [-1, 256, 28, 28]               0\n",
      "          Conv2d-104          [-1, 256, 28, 28]         589,824\n",
      "     BatchNorm2d-105          [-1, 256, 28, 28]             512\n",
      "            ReLU-106          [-1, 256, 28, 28]               0\n",
      "          Conv2d-107         [-1, 1024, 28, 28]         262,144\n",
      "     BatchNorm2d-108         [-1, 1024, 28, 28]           2,048\n",
      "            ReLU-109         [-1, 1024, 28, 28]               0\n",
      "      Bottleneck-110         [-1, 1024, 28, 28]               0\n",
      "          Conv2d-111          [-1, 256, 28, 28]         262,144\n",
      "     BatchNorm2d-112          [-1, 256, 28, 28]             512\n",
      "            ReLU-113          [-1, 256, 28, 28]               0\n",
      "          Conv2d-114          [-1, 256, 28, 28]         589,824\n",
      "     BatchNorm2d-115          [-1, 256, 28, 28]             512\n",
      "            ReLU-116          [-1, 256, 28, 28]               0\n",
      "          Conv2d-117         [-1, 1024, 28, 28]         262,144\n",
      "     BatchNorm2d-118         [-1, 1024, 28, 28]           2,048\n",
      "            ReLU-119         [-1, 1024, 28, 28]               0\n",
      "      Bottleneck-120         [-1, 1024, 28, 28]               0\n",
      "          Conv2d-121          [-1, 256, 28, 28]         262,144\n",
      "     BatchNorm2d-122          [-1, 256, 28, 28]             512\n",
      "            ReLU-123          [-1, 256, 28, 28]               0\n",
      "          Conv2d-124          [-1, 256, 28, 28]         589,824\n",
      "     BatchNorm2d-125          [-1, 256, 28, 28]             512\n",
      "            ReLU-126          [-1, 256, 28, 28]               0\n",
      "          Conv2d-127         [-1, 1024, 28, 28]         262,144\n",
      "     BatchNorm2d-128         [-1, 1024, 28, 28]           2,048\n",
      "            ReLU-129         [-1, 1024, 28, 28]               0\n",
      "      Bottleneck-130         [-1, 1024, 28, 28]               0\n",
      "          Conv2d-131          [-1, 256, 28, 28]         262,144\n",
      "     BatchNorm2d-132          [-1, 256, 28, 28]             512\n",
      "            ReLU-133          [-1, 256, 28, 28]               0\n",
      "          Conv2d-134          [-1, 256, 28, 28]         589,824\n",
      "     BatchNorm2d-135          [-1, 256, 28, 28]             512\n",
      "            ReLU-136          [-1, 256, 28, 28]               0\n",
      "          Conv2d-137         [-1, 1024, 28, 28]         262,144\n",
      "     BatchNorm2d-138         [-1, 1024, 28, 28]           2,048\n",
      "            ReLU-139         [-1, 1024, 28, 28]               0\n",
      "      Bottleneck-140         [-1, 1024, 28, 28]               0\n",
      "          Conv2d-141          [-1, 512, 28, 28]         524,288\n",
      "     BatchNorm2d-142          [-1, 512, 28, 28]           1,024\n",
      "            ReLU-143          [-1, 512, 28, 28]               0\n",
      "          Conv2d-144          [-1, 512, 14, 14]       2,359,296\n",
      "     BatchNorm2d-145          [-1, 512, 14, 14]           1,024\n",
      "            ReLU-146          [-1, 512, 14, 14]               0\n",
      "          Conv2d-147         [-1, 2048, 14, 14]       1,048,576\n",
      "     BatchNorm2d-148         [-1, 2048, 14, 14]           4,096\n",
      "          Conv2d-149         [-1, 2048, 14, 14]       2,097,152\n",
      "     BatchNorm2d-150         [-1, 2048, 14, 14]           4,096\n",
      "            ReLU-151         [-1, 2048, 14, 14]               0\n",
      "      Bottleneck-152         [-1, 2048, 14, 14]               0\n",
      "          Conv2d-153          [-1, 512, 14, 14]       1,048,576\n",
      "     BatchNorm2d-154          [-1, 512, 14, 14]           1,024\n",
      "            ReLU-155          [-1, 512, 14, 14]               0\n",
      "          Conv2d-156          [-1, 512, 14, 14]       2,359,296\n",
      "     BatchNorm2d-157          [-1, 512, 14, 14]           1,024\n",
      "            ReLU-158          [-1, 512, 14, 14]               0\n",
      "          Conv2d-159         [-1, 2048, 14, 14]       1,048,576\n",
      "     BatchNorm2d-160         [-1, 2048, 14, 14]           4,096\n",
      "            ReLU-161         [-1, 2048, 14, 14]               0\n",
      "      Bottleneck-162         [-1, 2048, 14, 14]               0\n",
      "          Conv2d-163          [-1, 512, 14, 14]       1,048,576\n",
      "     BatchNorm2d-164          [-1, 512, 14, 14]           1,024\n",
      "            ReLU-165          [-1, 512, 14, 14]               0\n",
      "          Conv2d-166          [-1, 512, 14, 14]       2,359,296\n",
      "     BatchNorm2d-167          [-1, 512, 14, 14]           1,024\n",
      "            ReLU-168          [-1, 512, 14, 14]               0\n",
      "          Conv2d-169         [-1, 2048, 14, 14]       1,048,576\n",
      "     BatchNorm2d-170         [-1, 2048, 14, 14]           4,096\n",
      "            ReLU-171         [-1, 2048, 14, 14]               0\n",
      "      Bottleneck-172         [-1, 2048, 14, 14]               0\n",
      "       AvgPool2d-173           [-1, 2048, 7, 7]               0\n",
      "================================================================\n",
      "Total params: 23,500,352\n",
      "Trainable params: 23,282,688\n",
      "Non-trainable params: 217,664\n",
      "----------------------------------------------------------------\n",
      "Input size (MB): 0.57\n",
      "Forward/backward pass size (MB): 1146.91\n",
      "Params size (MB): 89.65\n",
      "Estimated Total Size (MB): 1237.13\n",
      "----------------------------------------------------------------\n"
     ]
    }
   ],
   "source": [
    "ic = ICarl({\"convnet\": \"resnet50\"})\n",
    "ic.freeze_layers(5)\n",
    "model = ic._network.convnet\n",
    "x = torch.zeros(1, 3, 224, 224, dtype=torch.float, requires_grad=False)\n",
    "\n",
    "#make_dot(model(x), params=dict(model.named_parameters()))\n",
    "hl.build_graph(model,x)\n",
    "summary(model, input_size=(3, 224, 224))"
   ]
  },
  {
   "cell_type": "code",
   "execution_count": 33,
   "metadata": {},
   "outputs": [],
   "source": [
    "blocks=list(model.children())"
   ]
  },
  {
   "cell_type": "code",
   "execution_count": 36,
   "metadata": {},
   "outputs": [
    {
     "data": {
      "text/plain": [
       "torch.nn.modules.conv.Conv2d"
      ]
     },
     "execution_count": 36,
     "metadata": {},
     "output_type": "execute_result"
    }
   ],
   "source": [
    "type(blocks[0])"
   ]
  },
  {
   "cell_type": "code",
   "execution_count": 42,
   "metadata": {},
   "outputs": [],
   "source": [
    "parameters = {}\n",
    "for idx, block in enumerate(blocks):\n",
    "    parameters[idx] = sum([p.numel() for p in block.parameters()])\n",
    "total_parameters = sum(parameters.values())"
   ]
  },
  {
   "cell_type": "code",
   "execution_count": 58,
   "metadata": {},
   "outputs": [
    {
     "data": {
      "text/plain": [
       "Text(0.5,1,'Percentages of parameters in various blocks')"
      ]
     },
     "execution_count": 58,
     "metadata": {},
     "output_type": "execute_result"
    },
    {
     "data": {
      "image/png": "[encoded data removed]",
      "text/plain": [
       "<Figure size 360x360 with 1 Axes>"
      ]
     },
     "metadata": {},
     "output_type": "display_data"
    }
   ],
   "source": [
    "plt.figure(figsize=(5,5))\n",
    "plt.pie(list(parameters.values()), labels=list(parameters.keys()), autopct='%1.2f%%')\n",
    "plt.title(\"Percentages of parameters in various blocks\")"
   ]
  },
  {
   "cell_type": "code",
   "execution_count": 59,
   "metadata": {},
   "outputs": [
    {
     "data": {
      "text/plain": [
       "{0: 1728,\n",
       " 1: 128,\n",
       " 2: 0,\n",
       " 3: 0,\n",
       " 4: 215808,\n",
       " 5: 1219584,\n",
       " 6: 7098368,\n",
       " 7: 14964736,\n",
       " 8: 0}"
      ]
     },
     "execution_count": 59,
     "metadata": {},
     "output_type": "execute_result"
    }
   ],
   "source": [
    "parameters"
   ]
  },
  {
   "cell_type": "code",
   "execution_count": null,
   "metadata": {},
   "outputs": [],
   "source": []
  }
 ],
 "metadata": {
  "kernelspec": {
   "display_name": "Python 3",
   "language": "python",
   "name": "python3"
  },
  "language_info": {
   "codemirror_mode": {
    "name": "ipython",
    "version": 3
   },
   "file_extension": ".py",
   "mimetype": "text/x-python",
   "name": "python",
   "nbconvert_exporter": "python",
   "pygments_lexer": "ipython3",
   "version": "3.7.2"
  }
 },
 "nbformat": 4,
 "nbformat_minor": 2
}
