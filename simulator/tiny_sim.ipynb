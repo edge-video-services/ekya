{
 "cells": [
  {
   "cell_type": "code",
   "execution_count": 6,
   "metadata": {},
   "outputs": [],
   "source": [
    "import matplotlib.pyplot as plt\n",
    "from mpl_toolkits.mplot3d import Axes3D\n",
    "from __future__ import print_function\n",
    "from ipywidgets import interact, interactive, fixed, interact_manual\n",
    "import ipywidgets as widgets\n",
    "import numpy as np\n",
    "\n",
    "%matplotlib notebook"
   ]
  },
  {
   "cell_type": "code",
   "execution_count": 2,
   "metadata": {},
   "outputs": [],
   "source": [
    "class Model(object):\n",
    "    def __init__(self, train_acc_vs_t_function, init_train_duration):\n",
    "        self.train_fn = train_acc_vs_t_function\n",
    "        self.init_trained_duration = init_train_duration\n",
    "        self.init_acc = train_acc_vs_t_function(init_train_duration)\n",
    "        self.trained_duration = self.init_trained_duration\n",
    "        self.acc = self.init_acc\n",
    "\n",
    "    def post_train_acc(self, train_time):\n",
    "        # self.trained_duration += train_time # Not updating this yet\n",
    "        return self.train_fn(train_time + self.init_trained_duration)\n",
    "    \n",
    "    def do_train(self, train_time):\n",
    "        self.trained_duration += train_time\n",
    "        self.acc = self.train_fn(train_time)\n",
    "\n",
    "def slowed_acc(acc, contention_slowdown = 0.9):\n",
    "    return acc*contention_slowdown\n",
    "\n",
    "def optimus_fn(t, T, scale):\n",
    "    if t==0:\n",
    "        return 0\n",
    "    else:\n",
    "        return scale*1/((1/(t*10*1/T)) + 1) * 100   # Hits 0.9 acc at time T. *100 for accuracy.\n",
    "\n",
    "def inv_optimus_fn(a, T, scale):   # Maps accuracy to time\n",
    "    if a==0:\n",
    "        return 0\n",
    "    else:\n",
    "        return scale*a/(10/T * (100-a*scale))\n",
    "\n",
    "def linear_fn(t, k):\n",
    "    return k*t\n",
    "\n",
    "def inv_linear_fn(a, k):\n",
    "    return a/k\n",
    "\n",
    "def get_linear_fn(k):\n",
    "    return lambda t: linear_fn(t, k), lambda a: inv_linear_fn(a, k)\n",
    "\n",
    "def get_optimus_fn(T, scale):\n",
    "    return lambda t: optimus_fn(t, T, scale), lambda a: inv_optimus_fn(a, T, scale)\n",
    "\n",
    "def get_AUC(train_models, first_duration, second_duration, T):\n",
    "    if first_duration + second_duration >= T:\n",
    "        return 0\n",
    "    # Train_models is a list of models in the order they are trained\n",
    "    assert len(train_models) == 2\n",
    "    first_model = train_models[0]\n",
    "    second_model = train_models[1]\n",
    "    AUC_first = slowed_acc(first_model.init_acc) * first_duration + slowed_acc(first_model.post_train_acc(first_duration)) * second_duration + first_model.post_train_acc(first_duration) * (T-(first_duration + second_duration))\n",
    "    AUC_second = slowed_acc(second_model.init_acc) * (first_duration + second_duration) + second_model.post_train_acc(second_duration) * (T-(first_duration + second_duration))\n",
    "    return AUC_first + AUC_second\n",
    "\n",
    "def get_AUC_curves(train_models, first_duration, second_duration, T):\n",
    "    assert first_duration + second_duration <= T\n",
    "    # Train_models is a list of models in the order they are trained\n",
    "    assert len(train_models) == 2\n",
    "    first_model = train_models[0]\n",
    "    second_model = train_models[1]\n",
    "    x_data = list(range(0, T))\n",
    "    acc1 = []   # First accuracy curve\n",
    "    acc2 = []\n",
    "    for t in x_data:\n",
    "        if t < first_duration:\n",
    "            # Model 1 is training\n",
    "            acc1.append(slowed_acc(first_model.init_acc))\n",
    "            acc2.append(slowed_acc(second_model.init_acc))\n",
    "        elif t >= first_duration and t < first_duration+second_duration:\n",
    "            # Model 2 is training\n",
    "            acc1.append(slowed_acc(first_model.post_train_acc(first_duration)))\n",
    "            acc2.append(slowed_acc(second_model.init_acc))\n",
    "        elif t >= first_duration + second_duration:\n",
    "            # Both training done\n",
    "            acc1.append(first_model.post_train_acc(first_duration))\n",
    "            acc2.append(second_model.post_train_acc(second_duration))\n",
    "    assert len(acc1) == len(acc2) == len(x_data)\n",
    "    return acc1, acc2, x_data\n",
    "\n",
    "def get_train_curves(train_models, first_duration, second_duration, T):\n",
    "    assert first_duration + second_duration <= T\n",
    "    # Train_models is a list of models in the order they are trained\n",
    "    assert len(train_models) == 2\n",
    "    first_model = train_models[0]\n",
    "    second_model = train_models[1]\n",
    "    x_data = list(np.arange(0.0, T, 0.1))\n",
    "    acc1 = []   # First accuracy curve\n",
    "    acc2 = []\n",
    "    for t in x_data:\n",
    "        if t < first_duration:\n",
    "            # Model 1 is training\n",
    "            acc1.append(first_model.post_train_acc(t))\n",
    "            acc2.append(second_model.init_acc)\n",
    "        elif t >= first_duration and t < first_duration+second_duration:\n",
    "            # Model 2 is training\n",
    "            acc1.append(first_model.post_train_acc(first_duration))\n",
    "            acc2.append(second_model.post_train_acc(t-first_duration))\n",
    "        elif t >= first_duration + second_duration:\n",
    "            # Both training done\n",
    "            acc1.append(first_model.post_train_acc(first_duration))\n",
    "            acc2.append(second_model.post_train_acc(second_duration))\n",
    "    assert len(acc1) == len(acc2) == len(x_data)\n",
    "    return acc1, acc2, x_data\n",
    "\n",
    "def plot_train_profiles(train_funcs, time_max=100, title=\"Accuracy vs GPU Cycles\"):\n",
    "    t_data_train = list(range(0,time_max))\n",
    "    for fn, label in train_funcs:\n",
    "        tacc = [fn(i) for i in t_data_train]\n",
    "        plt.plot(t_data_train, tacc, label=label)\n",
    "    plt.legend()\n",
    "    plt.title(title)\n",
    "    plt.xlabel(\"GPU Time\")\n",
    "    plt.ylabel(\"Accuracy\")\n",
    "    plt.ylim([0,100])\n",
    "\n",
    "def plot_acc_data(lines, t_data, title=\"Accuracy over time\"):\n",
    "    for l in lines:\n",
    "        acc_data, label = l\n",
    "        plt.plot(t_data, acc_data, label=label)\n",
    "    plt.legend()\n",
    "    plt.title(title)\n",
    "    plt.xlabel(\"Time\")\n",
    "    plt.ylabel(\"Accuracy\")\n",
    "    plt.ylim([0,100])\n",
    "\n",
    "def plot_auc_plane(train_models, T):\n",
    "    A,B = train_models\n",
    "    train_times = list(range(0, T))\n",
    "    first_train_time = []\n",
    "    second_train_time = []\n",
    "    auc_data = []\n",
    "    for x in train_times:\n",
    "        for y in range(0, T - x):\n",
    "            first_train_time.append(x)\n",
    "            second_train_time.append(y)\n",
    "            auc_data.append(get_AUC([A, B], x, y, T))\n",
    "\n",
    "    max_index = auc_data.index(max(auc_data))\n",
    "    t1_opt, t2_opt, auc_opt = first_train_time[max_index], second_train_time[max_index], auc_data[max_index]\n",
    "    print(\"Max coords: A: {}, B: {}, AUC: {}\".format(t1_opt, t2_opt, auc_opt))\n",
    "\n",
    "    fig = plt.figure()\n",
    "    ax = fig.gca(projection='3d')\n",
    "    # Plot the surface.\n",
    "    surf = ax.scatter(first_train_time, second_train_time, auc_data)  # , linewidth=0, antialiased=False)\n",
    "    ax.set_xlabel(\"A train time\")\n",
    "    ax.set_ylabel(\"B train time\")\n",
    "    ax.set_zlabel(\"AUC\")\n",
    "    ax.set_title(\"AUC vs A train time vs B train time\")\n",
    "\n",
    "    plt.figure()\n",
    "    acc1, acc2, t_data = get_AUC_curves([A, B], t1_opt, t2_opt, T)\n",
    "    plot_acc_data([(acc1, \"FirstModel\"), (acc2, \"SecondModel\")], t_data, title=\"Best Inference Accuracy over Time\")\n",
    "    print(sum(acc1) + sum(acc2))\n",
    "    \n",
    "    plt.figure()\n",
    "    tacc1, tacc2, t_data_train = get_train_curves([A, B], t1_opt, t2_opt, T)\n",
    "    plot_acc_data([(tacc1, \"FirstModel_Train\"), (tacc2, \"SecondModel_Train\")], t_data_train, title=\"Best Train Accuracy over Time\")\n",
    "    \n",
    "    plt.figure()\n",
    "    plot_train_profiles([(A.train_fn, \"A_Train_Profile\"), (B.train_fn, \"B_Train_Profile\")])\n",
    "                        \n",
    "    plt.show()"
   ]
  },
  {
   "cell_type": "markdown",
   "metadata": {},
   "source": [
    "### Simulator start"
   ]
  },
  {
   "cell_type": "code",
   "execution_count": 3,
   "metadata": {},
   "outputs": [],
   "source": [
    "def run_sim(a_conv_time = 50, a_scale = 1, b_conv_time = 10, b_scale = 0.8, target_start_accuracy = 30, T = 20):\n",
    "    a_func, a_inv_func = get_optimus_fn(a_conv_time, a_scale)\n",
    "    b_func, b_inv_func = get_optimus_fn(b_conv_time, b_scale)\n",
    "    init_time_a = a_inv_func(target_start_accuracy)\n",
    "    init_time_b = b_inv_func(target_start_accuracy)\n",
    "    A = Model(a_func, init_time_a)\n",
    "    B = Model(b_func, init_time_b)\n",
    "\n",
    "    plot_auc_plane([A,B], T)\n",
    "    #plot_auc_plane([B,A], T)"
   ]
  },
  {
   "cell_type": "code",
   "execution_count": 4,
   "metadata": {},
   "outputs": [
    {
     "data": {
      "application/javascript": [
       "IPython.OutputArea.prototype._should_scroll = function(lines) {\n",
       "    return false;\n",
       "}"
      ],
      "text/plain": [
       "<IPython.core.display.Javascript object>"
      ]
     },
     "metadata": {},
     "output_type": "display_data"
    }
   ],
   "source": [
    "%%javascript\n",
    "IPython.OutputArea.prototype._should_scroll = function(lines) {\n",
    "    return false;\n",
    "}"
   ]
  },
  {
   "cell_type": "code",
   "execution_count": 7,
   "metadata": {
    "scrolled": false
   },
   "outputs": [
    {
     "data": {
      "application/vnd.jupyter.widget-view+json": {
       "model_id": "108c019ccda74adbba79dc8e6b00d748",
       "version_major": 2,
       "version_minor": 0
      },
      "text/plain": [
       "interactive(children=(IntSlider(value=50, description='a_conv_time', max=500), FloatSlider(value=1.0, descript…"
      ]
     },
     "metadata": {},
     "output_type": "display_data"
    }
   ],
   "source": [
    "interactive_plot = interactive(run_sim, {'manual': True}, a_conv_time = (0, 500, 1), a_scale = (0,1,0.1), b_conv_time = (0, 500, 1), b_scale = (0,1,0.1), target_start_accuracy = 40, T = 20)\n",
    "output = interactive_plot.children[-1]\n",
    "#output.layout.height = '1200px'\n",
    "interactive_plot\n"
   ]
  },
  {
   "cell_type": "code",
   "execution_count": null,
   "metadata": {},
   "outputs": [],
   "source": []
  }
 ],
 "metadata": {
  "kernelspec": {
   "display_name": "Python 3",
   "language": "python",
   "name": "python3"
  },
  "language_info": {
   "codemirror_mode": {
    "name": "ipython",
    "version": 3
   },
   "file_extension": ".py",
   "mimetype": "text/x-python",
   "name": "python",
   "nbconvert_exporter": "python",
   "pygments_lexer": "ipython3",
   "version": "3.7.2"
  }
 },
 "nbformat": 4,
 "nbformat_minor": 2
}
