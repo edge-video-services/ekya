{
 "cells": [
  {
   "cell_type": "code",
   "execution_count": 14,
   "metadata": {},
   "outputs": [],
   "source": [
    "import matplotlib.pyplot as plt\n",
    "from mpl_toolkits.mplot3d import Axes3D\n",
    "from __future__ import print_function\n",
    "from ipywidgets import interact, interactive, fixed, interact_manual\n",
    "import ipywidgets as widgets\n",
    "import numpy as np\n",
    "\n",
    "%matplotlib notebook"
   ]
  },
  {
   "cell_type": "code",
   "execution_count": 15,
   "metadata": {},
   "outputs": [],
   "source": [
    "class Model(object):\n",
    "    def __init__(self, train_acc_vs_t_function, init_train_duration, auto_checkpoint = False):\n",
    "        self.train_fn = train_acc_vs_t_function\n",
    "        self.init_trained_duration = init_train_duration\n",
    "        self.init_acc = self.train_fn(self.init_trained_duration)\n",
    "        self.auto_checkpoint = auto_checkpoint\n",
    "        self.reset()\n",
    "\n",
    "    def post_train_acc(self, train_time):\n",
    "        return self.train_fn(train_time + self.init_trained_duration)\n",
    "    \n",
    "    def train(self, train_time):\n",
    "        self.trained_duration += train_time\n",
    "        self.uncheckpointed_acc = self.train_fn(self.trained_duration)\n",
    "        if self.auto_checkpoint:\n",
    "            self.checkpoint()\n",
    "    \n",
    "    def checkpoint(self):\n",
    "        self.acc = self.uncheckpointed_acc\n",
    "    \n",
    "    def delta_acc(self, t):\n",
    "        return self.post_train_acc(t + 1) - self.post_train_acc(t)\n",
    "    \n",
    "    def reset(self):\n",
    "        self.trained_duration = self.init_trained_duration\n",
    "        self.acc = self.init_acc\n",
    "        self.uncheckpointed_acc = self.acc\n",
    "\n",
    "\n",
    "def slowed_acc(acc, contention_slowdown = 0.9):\n",
    "    return acc*contention_slowdown\n",
    "\n",
    "def optimus_fn(t, T, scale):\n",
    "    if t==0:\n",
    "        return 0\n",
    "    else:\n",
    "        return scale*1/((1/(t*10*1/T)) + 1) * 100   # Hits 0.9 acc at time T. *100 for accuracy.\n",
    "\n",
    "def inv_optimus_fn(a, T, scale):   # Maps accuracy to time\n",
    "    if a==0:\n",
    "        return 0\n",
    "    else:\n",
    "        return scale*a/(10/T * (100-a*scale))\n",
    "\n",
    "def linear_fn(t, k):\n",
    "    return k*t\n",
    "\n",
    "def inv_linear_fn(a, k):\n",
    "    return a/k\n",
    "\n",
    "def get_linear_fn(k):\n",
    "    return lambda t: linear_fn(t, k), lambda a: inv_linear_fn(a, k)\n",
    "\n",
    "def get_optimus_fn(T, scale):\n",
    "    return lambda t: optimus_fn(t, T, scale), lambda a: inv_optimus_fn(a, T, scale)\n",
    "\n",
    "def get_AUC_curves(train_models, run_schedule, T):\n",
    "    # Train_models is a list of models in the order they are trained\n",
    "    times_to_run_first, times_to_run_second = run_schedule \n",
    "    assert len(train_models) == 2\n",
    "    first_model = train_models[0]\n",
    "    second_model = train_models[1]\n",
    "    x_data = list(range(0, T))\n",
    "    acc1 = []   # First accuracy curve\n",
    "    acc2 = []\n",
    "    was_first_training, was_second_training = False, False\n",
    "    for t in x_data:\n",
    "        is_first_training = t in times_to_run_first\n",
    "        is_second_training = t in times_to_run_second\n",
    "        if is_first_training:\n",
    "            # Model 1 is training\n",
    "            first_model.train(1)\n",
    "        elif was_first_training:\n",
    "            first_model.checkpoint()\n",
    "        if is_second_training:\n",
    "            # Model 2 is training\n",
    "            second_model.train(1)   \n",
    "        elif was_second_training:\n",
    "            second_model.checkpoint()         \n",
    "        if is_first_training or is_second_training:\n",
    "            acc1.append(slowed_acc(first_model.acc))\n",
    "            acc2.append(slowed_acc(second_model.acc))\n",
    "        else:\n",
    "            acc1.append(first_model.acc)\n",
    "            acc2.append(second_model.acc)\n",
    "        was_first_training = is_first_training\n",
    "        was_second_training = is_second_training\n",
    "    assert len(acc1) == len(acc2) == len(x_data)\n",
    "    return acc1, acc2, x_data\n",
    "\n",
    "def get_deltacc_run_schedule(A, B, train_budget, T):\n",
    "    times_to_run_A = []\n",
    "    times_to_run_B = []\n",
    "    for t in range(0,T):\n",
    "        if len(times_to_run_A) + len(times_to_run_B) > train_budget:\n",
    "            break\n",
    "        a_delta_acc = A.delta_acc(t + len(times_to_run_A))\n",
    "        b_delta_acc = B.delta_acc(t + len(times_to_run_B))\n",
    "        if a_delta_acc > b_delta_acc:\n",
    "            times_to_run_A.append(t)\n",
    "        else:\n",
    "            times_to_run_B.append(t)\n",
    "        #print(a_delta_acc, b_delta_acc)\n",
    "    return times_to_run_A, times_to_run_B\n",
    "\n",
    "def plot_train_profiles(train_funcs, time_max=100, title=\"Accuracy vs GPU Cycles\"):\n",
    "    t_data_train = list(range(0,time_max))\n",
    "    for fn, label in train_funcs:\n",
    "        tacc = [fn(i) for i in t_data_train]\n",
    "        plt.plot(t_data_train, tacc, label=label)\n",
    "    plt.legend()\n",
    "    plt.title(title)\n",
    "    plt.xlabel(\"GPU Time\")\n",
    "    plt.ylabel(\"Accuracy\")\n",
    "    plt.ylim([0,100])\n",
    "\n",
    "def plot_acc_data(lines, t_data, title=\"Accuracy over time\"):\n",
    "    for l in lines:\n",
    "        acc_data, label = l\n",
    "        plt.plot(t_data, acc_data, label=label)\n",
    "    plt.legend()\n",
    "    plt.title(title)\n",
    "    plt.xlabel(\"Time\")\n",
    "    plt.ylabel(\"Accuracy\")\n",
    "    plt.ylim([0,100])\n",
    "\n",
    "def plot_auc_plane(train_models, T):\n",
    "    A,B = train_models\n",
    "    train_budgets = list(range(0, T))\n",
    "    auc_data = []\n",
    "    runsched_list = []\n",
    "    acc1_list = []\n",
    "    acc2_list = []\n",
    "    for budget in train_budgets:\n",
    "        A.reset()\n",
    "        B.reset()\n",
    "        run_schedule = get_deltacc_run_schedule(A, B, budget, T)\n",
    "        acc1, acc2, t_data = get_AUC_curves(train_models, run_schedule, T)\n",
    "        auc = sum(acc1) + sum(acc2)\n",
    "        auc_data.append(auc)\n",
    "        acc1_list.append(acc1)\n",
    "        acc2_list.append(acc2)\n",
    "        runsched_list.append(run_schedule)\n",
    "    \n",
    "    max_index = auc_data.index(max(auc_data))\n",
    "    budget_opt, acc1_opt, acc2_opt, auc_opt, runsched_opt = train_budgets[max_index], acc1_list[max_index], acc2_list[max_index], auc_data[max_index], runsched_list[max_index]\n",
    "    print(\"Max coords: budget: {}, AUC: {}\".format(budget_opt, auc_opt))\n",
    "    print(\"Runsched: {}\".format(runsched_opt))\n",
    "\n",
    "    fig = plt.figure()\n",
    "    ax = fig.gca()\n",
    "    # Plot the surface.\n",
    "    p = ax.scatter(train_budgets, auc_data)  # , linewidth=0, antialiased=False)\n",
    "    ax.set_xlabel(\"TrainBudget\")\n",
    "    ax.set_ylabel(\"AUC\")\n",
    "    ax.set_title(\"Train Budget vs AUC\")\n",
    "\n",
    "    plt.figure()\n",
    "    plot_acc_data([(acc1_opt, \"FirstModel\"), (acc2_opt, \"SecondModel\")], list(range(0, T)), title=\"Best Inference Accuracy over Time\")\n",
    "    print(sum(acc1_opt) + sum(acc2_opt))\n",
    "    \n",
    "#     plt.figure()\n",
    "#     tacc1, tacc2, t_data_train = get_train_curves([A, B], t1_opt, t2_opt, T)\n",
    "#     plot_acc_data([(tacc1, \"FirstModel_Train\"), (tacc2, \"SecondModel_Train\")], t_data_train, title=\"Best Train Accuracy over Time\")\n",
    "    \n",
    "#     plt.figure()\n",
    "#     plot_train_profiles([(A.train_fn, \"A_Train_Profile\"), (B.train_fn, \"B_Train_Profile\")])\n",
    "                        \n",
    "    plt.show()"
   ]
  },
  {
   "cell_type": "markdown",
   "metadata": {},
   "source": [
    "### Simulator start"
   ]
  },
  {
   "cell_type": "code",
   "execution_count": 11,
   "metadata": {},
   "outputs": [],
   "source": [
    "def run_sim(a_conv_time = 50, a_scale = 1, b_conv_time = 50, b_scale = 1, target_start_accuracy = 30, T = 20):\n",
    "    a_func, a_inv_func = get_optimus_fn(a_conv_time, a_scale)\n",
    "    b_func, b_inv_func = get_optimus_fn(b_conv_time, b_scale)\n",
    "    init_time_a = a_inv_func(target_start_accuracy)\n",
    "    init_time_b = b_inv_func(target_start_accuracy)\n",
    "    A = Model(a_func, init_time_a, auto_checkpoint=False)\n",
    "    B = Model(b_func, init_time_b, auto_checkpoint=False)\n",
    "\n",
    "    plot_auc_plane([A,B], T)\n",
    "    #plot_auc_plane([B,A], T)"
   ]
  },
  {
   "cell_type": "code",
   "execution_count": 12,
   "metadata": {},
   "outputs": [
    {
     "data": {
      "application/javascript": [
       "IPython.OutputArea.prototype._should_scroll = function(lines) {\n",
       "    return false;\n",
       "}"
      ],
      "text/plain": [
       "<IPython.core.display.Javascript object>"
      ]
     },
     "metadata": {},
     "output_type": "display_data"
    }
   ],
   "source": [
    "%%javascript\n",
    "IPython.OutputArea.prototype._should_scroll = function(lines) {\n",
    "    return false;\n",
    "}"
   ]
  },
  {
   "cell_type": "code",
   "execution_count": 13,
   "metadata": {
    "scrolled": false
   },
   "outputs": [
    {
     "data": {
      "application/vnd.jupyter.widget-view+json": {
       "model_id": "4232104c58d248b2b006e9a1b38bcf7f",
       "version_major": 2,
       "version_minor": 0
      },
      "text/plain": [
       "interactive(children=(IntSlider(value=50, description='a_conv_time', max=500), FloatSlider(value=1.0, descript…"
      ]
     },
     "metadata": {},
     "output_type": "display_data"
    }
   ],
   "source": [
    "interactive_plot = interactive(run_sim, {'manual': True}, a_conv_time = (0, 500, 1), a_scale = (0,1,0.1), b_conv_time = (0, 500, 1), b_scale = (0,1,0.1), target_start_accuracy = 40, T = 20)\n",
    "output = interactive_plot.children[-1]\n",
    "#output.layout.height = '1200px'\n",
    "interactive_plot\n"
   ]
  },
  {
   "cell_type": "code",
   "execution_count": null,
   "metadata": {},
   "outputs": [],
   "source": []
  },
  {
   "cell_type": "code",
   "execution_count": null,
   "metadata": {},
   "outputs": [],
   "source": []
  }
 ],
 "metadata": {
  "kernelspec": {
   "display_name": "Python 3",
   "language": "python",
   "name": "python3"
  },
  "language_info": {
   "codemirror_mode": {
    "name": "ipython",
    "version": 3
   },
   "file_extension": ".py",
   "mimetype": "text/x-python",
   "name": "python",
   "nbconvert_exporter": "python",
   "pygments_lexer": "ipython3",
   "version": "3.7.2"
  }
 },
 "nbformat": 4,
 "nbformat_minor": 2
}
